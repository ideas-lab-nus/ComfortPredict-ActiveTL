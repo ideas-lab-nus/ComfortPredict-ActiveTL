{
 "cells": [
  {
   "cell_type": "markdown",
   "metadata": {
    "pycharm": {
     "name": "#%% md\n"
    }
   },
   "source": [
    "# Import libraries and model hyperparameters"
   ]
  },
  {
   "cell_type": "code",
   "execution_count": 1,
   "metadata": {
    "pycharm": {
     "is_executing": true,
     "name": "#%%\n"
    }
   },
   "outputs": [
    {
     "name": "stderr",
     "output_type": "stream",
     "text": [
      "2023-12-05 23:30:32.341268: I tensorflow/core/platform/cpu_feature_guard.cc:193] This TensorFlow binary is optimized with oneAPI Deep Neural Network Library (oneDNN) to use the following CPU instructions in performance-critical operations:  AVX2 FMA\n",
      "To enable them in other operations, rebuild TensorFlow with the appropriate compiler flags.\n"
     ]
    }
   ],
   "source": [
    "import tensorflow as tf\n",
    "import numpy as np\n",
    "import pandas as pd\n",
    "import argparse\n",
    "import random\n",
    "random.seed(1)\n",
    "from tensorflow.keras.models import Sequential\n",
    "from tensorflow.keras.layers import Conv1D, LSTM, Dropout, Flatten, Dense\n",
    "from sklearn.model_selection import train_test_split\n",
    "from sklearn.metrics import accuracy_score, f1_score\n",
    "from sklearn.preprocessing import MinMaxScaler\n",
    "\n",
    "pd.set_option('display.max_columns', None)\n",
    "pd.set_option('display.max_rows', None)\n",
    "\n",
    "# Define model hyperparameters\n",
    "parser = argparse.ArgumentParser(description='TL-CNN-LSTM Fine Tuning Model')\n",
    "parser.add_argument('--input_size', type=int, default=7)\n",
    "parser.add_argument('--batch_size', type=int, default=64)\n",
    "parser.add_argument('--num_epochs', type=int, default=100)\n",
    "parser.add_argument('--learning_rate', type=float, default=0.000001)\n",
    "parser.add_argument('--input_features', type=list, default=['Mode',\n",
    "                                                            'Indoor Temp',\n",
    "                                                            'Indoor Humidity',\n",
    "                                                            'Air Velocity',\n",
    "                                                            'Globe Temperature',\n",
    "                                                            'Outdoor Temp',\n",
    "                                                            'Outdoor Humidity'])\n",
    "parser.add_argument('--experiment', type=str, default='mode_al') \n",
    "# choose either 'condition_random', 'mode_random', 'mode_al', 'all'\n",
    "args = parser.parse_args(args=[])\n",
    "\n",
    "mode_mapping = {'AC':0, 'NV':1}\n",
    "thermalpref_mapping = {'No Change':0, 'Warmer':1, 'Cooler':2}\n",
    "thermalacc_mapping = {'Acceptable':0, 'Unacceptable':1}\n",
    "airpref_mapping = {'No Change':0, 'More':1, 'Less':2}"
   ]
  },
  {
   "cell_type": "markdown",
   "metadata": {},
   "source": [
    "# Load data"
   ]
  },
  {
   "cell_type": "code",
   "execution_count": 2,
   "metadata": {
    "pycharm": {
     "name": "#%%\n"
    }
   },
   "outputs": [],
   "source": [
    "# load training data from ASHRAE dataset\n",
    "ashrae_thermalpref_train = pd.read_csv('../data/ashrae_thermalpref_sampled_data.csv')\n",
    "ashrae_thermalacc_train = pd.read_csv('../data/ashrae_thermalacc_sampled_data.csv')\n",
    "ashrae_airpref_train = pd.read_csv('../data/ashrae_airpref_sampled_data.csv')\n",
    "\n",
    "# load training data from BCA dataset\n",
    "if args.experiment == 'condition_random':\n",
    "    bca_thermalpref_train = pd.read_csv('../data/bca_thermalpref_train_condition_random_data.csv')\n",
    "    bca_thermalacc_train = pd.read_csv('../data/bca_thermalacc_train_condition_random_data.csv')\n",
    "    bca_airpref_train = pd.read_csv('../data/bca_airpref_train_condition_random_data.csv')\n",
    "elif args.experiment == 'mode_random':\n",
    "    bca_thermalpref_train = pd.read_csv('../data/bca_thermalpref_train_mode_random_data.csv')\n",
    "    bca_thermalacc_train = pd.read_csv('../data/bca_thermalacc_train_mode_random_data.csv')\n",
    "    bca_airpref_train = pd.read_csv('../data/bca_airpref_train_mode_random_data.csv')\n",
    "elif args.experiment == 'mode_al':\n",
    "    bca_thermalpref_train = pd.read_csv('../data/bca_thermalpref_train_mode_al_data.csv')\n",
    "    bca_thermalacc_train = pd.read_csv('../data/bca_thermalacc_train_mode_al_data.csv')\n",
    "    bca_airpref_train = pd.read_csv('../data/bca_airpref_train_mode_al_data.csv')\n",
    "elif args.experiment == 'all':\n",
    "    bca_thermalpref_train = pd.read_csv('../data/bca_thermalpref_train_data.csv')\n",
    "    bca_thermalacc_train = pd.read_csv('../data/bca_thermalacc_train_data.csv')\n",
    "    bca_airpref_train = pd.read_csv('../data/bca_airpref_train_data.csv') \n",
    "else:\n",
    "    raise ValueError(f\"Experiment {args.experiment} is not supported.\")\n",
    "\n",
    "# load test data from BCA dataset\n",
    "bca_thermalpref_test = pd.read_csv('../data/bca_thermalpref_test_data.csv')\n",
    "bca_thermalacc_test = pd.read_csv('../data/bca_thermalacc_test_data.csv')\n",
    "bca_airpref_test = pd.read_csv('../data/bca_airpref_test_data.csv')"
   ]
  },
  {
   "cell_type": "code",
   "execution_count": 3,
   "metadata": {
    "pycharm": {
     "name": "#%%\n"
    }
   },
   "outputs": [],
   "source": [
    "# perform one hot encoding\n",
    "ashrae_thermalpref_train['Mode'] = ashrae_thermalpref_train['Mode'].apply(lambda x: mode_mapping[x])\n",
    "bca_thermalpref_train['Mode'] = bca_thermalpref_train['Mode'].apply(lambda x: mode_mapping[x])\n",
    "bca_thermalpref_test['Mode'] = bca_thermalpref_test['Mode'].apply(lambda x: mode_mapping[x])\n",
    "\n",
    "ashrae_thermalacc_train['Mode'] = ashrae_thermalacc_train['Mode'].apply(lambda x: mode_mapping[x])\n",
    "bca_thermalacc_train['Mode'] = bca_thermalacc_train['Mode'].apply(lambda x: mode_mapping[x])\n",
    "bca_thermalacc_test['Mode'] = bca_thermalacc_test['Mode'].apply(lambda x: mode_mapping[x])\n",
    "\n",
    "ashrae_airpref_train['Mode'] = ashrae_airpref_train['Mode'].apply(lambda x: mode_mapping[x])\n",
    "bca_airpref_train['Mode'] = bca_airpref_train['Mode'].apply(lambda x: mode_mapping[x])\n",
    "bca_airpref_test['Mode'] = bca_airpref_test['Mode'].apply(lambda x: mode_mapping[x])"
   ]
  },
  {
   "cell_type": "code",
   "execution_count": 4,
   "metadata": {},
   "outputs": [],
   "source": [
    "# perform label mapping\n",
    "ashrae_thermalpref_train['Thermal Preference'] = ashrae_thermalpref_train['Thermal Preference'].apply(lambda x: thermalpref_mapping[x])\n",
    "bca_thermalpref_train['Thermal Preference'] = bca_thermalpref_train['Thermal Preference'].apply(lambda x: thermalpref_mapping[x])\n",
    "bca_thermalpref_test['Thermal Preference'] = bca_thermalpref_test['Thermal Preference'].apply(lambda x: thermalpref_mapping[x])\n",
    "\n",
    "ashrae_thermalacc_train['Thermal Acceptability'] = ashrae_thermalacc_train['Thermal Acceptability'].apply(lambda x: thermalacc_mapping[x])\n",
    "bca_thermalacc_train['Thermal Acceptability'] = bca_thermalacc_train['Thermal Acceptability'].apply(lambda x: thermalacc_mapping[x])\n",
    "bca_thermalacc_test['Thermal Acceptability'] = bca_thermalacc_test['Thermal Acceptability'].apply(lambda x: thermalacc_mapping[x])\n",
    "\n",
    "ashrae_airpref_train['Air Movement Preference'] = ashrae_airpref_train['Air Movement Preference'].apply(lambda x: airpref_mapping[x])\n",
    "bca_airpref_train['Air Movement Preference'] = bca_airpref_train['Air Movement Preference'].apply(lambda x: airpref_mapping[x])\n",
    "bca_airpref_test['Air Movement Preference'] = bca_airpref_test['Air Movement Preference'].apply(lambda x: airpref_mapping[x])"
   ]
  },
  {
   "cell_type": "markdown",
   "metadata": {},
   "source": [
    "# Load pretrained model"
   ]
  },
  {
   "cell_type": "code",
   "execution_count": 5,
   "metadata": {
    "pycharm": {
     "name": "#%%\n"
    }
   },
   "outputs": [],
   "source": [
    "def load_pretrained_model(model_name):\n",
    "    \"\"\"\n",
    "    Loads the CNN LSTM model that was pretrained on the ASHRAE dataset.\n",
    "    \n",
    "    Parameters:\n",
    "        model_name: The name of the CNN LSTM model pretrained on the ASHRAE dataset.\n",
    "        \n",
    "    Return:\n",
    "        model: The CNN LSTM model pretrained on the ASHRAE dataset.\n",
    "    \"\"\"\n",
    "    # Load the pre-trained CNN LSTM model\n",
    "    pretrained_model = tf.keras.models.load_model(model_name + '.h5')\n",
    "    \n",
    "    # Print model summary\n",
    "    print(pretrained_model.summary())\n",
    "    \n",
    "    return pretrained_model\n",
    "\n",
    "def generate_ashrae_scaler(ashrae_data, target_col):\n",
    "    \"\"\"\n",
    "    Generates a feature scaler based on the ASHRAE dataset.\n",
    "    \n",
    "    Parameters:\n",
    "        ashrae_data: The ASHRAE dataset that the model is pretrained on.\n",
    "        target_col: The target column in the ASHRAE dataset.\n",
    "        \n",
    "    Returns:\n",
    "        scaler: The MinMax scaler fitted on the ASHRAE dataset.\n",
    "    \"\"\"\n",
    "    X = np.array(ashrae_data[args.input_features])\n",
    "    y = np.array(ashrae_data[target_col])\n",
    "\n",
    "    # Split the data into training and validation sets\n",
    "    X_train, X_val, y_train, y_val = train_test_split(X, y, test_size=0.2)\n",
    "    \n",
    "    # Create and fit a Min-Max scaler\n",
    "    scaler = MinMaxScaler()\n",
    "    X_train_scaled = scaler.fit_transform(X_train)\n",
    "    \n",
    "    return scaler\n",
    "    "
   ]
  },
  {
   "cell_type": "markdown",
   "metadata": {},
   "source": [
    "# Model training and evaluation"
   ]
  },
  {
   "cell_type": "code",
   "execution_count": 6,
   "metadata": {
    "pycharm": {
     "name": "#%%\n"
    }
   },
   "outputs": [],
   "source": [
    "def train_model(model, train_df, scaler, model_name, target_col, num_classes):\n",
    "    # Assuming train_df has columns for features and a 'target' column for labels\n",
    "    X = np.array(train_df[args.input_features])\n",
    "    y = np.array(train_df[target_col])\n",
    "\n",
    "    # Split the data into training and validation sets\n",
    "    X_train, X_val, y_train, y_val = train_test_split(X, y, test_size=0.2)\n",
    "    \n",
    "    # Create and fit a Min-Max scaler\n",
    "    X_train_scaled = scaler.transform(X_train)\n",
    "    X_val_scaled = scaler.transform(X_val)\n",
    "\n",
    "    # Convert labels to one-hot encoding\n",
    "    y_train = tf.keras.utils.to_categorical(y_train, num_classes=num_classes)\n",
    "    y_val = tf.keras.utils.to_categorical(y_val, num_classes=num_classes)\n",
    "\n",
    "    # Define a callback to save the best model during training\n",
    "    checkpoint_callback = tf.keras.callbacks.ModelCheckpoint('model.h5', save_best_only=True)\n",
    "    \n",
    "    # Early stopping callback\n",
    "    early_stopping_callback = tf.keras.callbacks.EarlyStopping(\n",
    "        monitor='val_accuracy',  # Monitor validation loss\n",
    "        patience=10,          # Number of epochs with no improvement after which training will be stopped\n",
    "        restore_best_weights=True  # Restore the best model weights when training stops\n",
    "    )\n",
    "\n",
    "    # Train the model\n",
    "    history = model.fit(X_train_scaled, \n",
    "                        y_train, \n",
    "                        epochs=args.num_epochs, \n",
    "                        batch_size=args.batch_size,\n",
    "                        validation_data=(X_val_scaled, y_val), \n",
    "                        callbacks=[checkpoint_callback, early_stopping_callback])\n",
    "\n",
    "    # Save the final trained model\n",
    "    model.save(model_name + '.h5')\n",
    "    \n",
    "    print(history)\n",
    "\n",
    "    return model\n",
    "\n",
    "def evaluate_model(model, test_df, scaler, model_name, target_col, metrics=['accuracy', 'weighted_f1']):\n",
    "    # Assuming test_df has columns for features and a 'target' column for labels\n",
    "    X_test = np.array(test_df[args.input_features])\n",
    "    y_true = np.array(test_df[target_col])\n",
    "\n",
    "    # Load the pre-trained model\n",
    "    loaded_model = tf.keras.models.load_model(model_name + '.h5')\n",
    "    \n",
    "    # Apply numerical scaler on X_test\n",
    "    X_test_scaled = scaler.transform(X_test)\n",
    "\n",
    "    # Get predictions from the model\n",
    "    y_pred = loaded_model.predict(X_test_scaled)\n",
    "    y_pred_classes = np.argmax(y_pred, axis=1)\n",
    "\n",
    "    evaluation_results = {}\n",
    "\n",
    "    if 'accuracy' in metrics:\n",
    "        accuracy = accuracy_score(y_true, y_pred_classes)\n",
    "        evaluation_results['accuracy'] = accuracy\n",
    "\n",
    "    if 'weighted_f1' in metrics:\n",
    "        weighted_f1 = f1_score(y_true, y_pred_classes, average='weighted')\n",
    "        evaluation_results['weighted_f1'] = weighted_f1\n",
    "\n",
    "    return evaluation_results\n"
   ]
  },
  {
   "cell_type": "code",
   "execution_count": 7,
   "metadata": {
    "pycharm": {
     "name": "#%%\n"
    },
    "scrolled": true
   },
   "outputs": [
    {
     "name": "stdout",
     "output_type": "stream",
     "text": [
      "Training Thermal Preference Model\n"
     ]
    },
    {
     "name": "stderr",
     "output_type": "stream",
     "text": [
      "2023-12-05 23:30:35.699041: I tensorflow/core/platform/cpu_feature_guard.cc:193] This TensorFlow binary is optimized with oneAPI Deep Neural Network Library (oneDNN) to use the following CPU instructions in performance-critical operations:  AVX2 FMA\n",
      "To enable them in other operations, rebuild TensorFlow with the appropriate compiler flags.\n"
     ]
    },
    {
     "name": "stdout",
     "output_type": "stream",
     "text": [
      "Model: \"sequential\"\n",
      "_________________________________________________________________\n",
      " Layer (type)                Output Shape              Param #   \n",
      "=================================================================\n",
      " conv1d (Conv1D)             (None, 7, 128)            768       \n",
      "                                                                 \n",
      " dropout (Dropout)           (None, 7, 128)            0         \n",
      "                                                                 \n",
      " lstm (LSTM)                 (None, 7, 256)            394240    \n",
      "                                                                 \n",
      " lstm_1 (LSTM)               (None, 256)               525312    \n",
      "                                                                 \n",
      " flatten (Flatten)           (None, 256)               0         \n",
      "                                                                 \n",
      " dense (Dense)               (None, 64)                16448     \n",
      "                                                                 \n",
      " dense_1 (Dense)             (None, 16)                1040      \n",
      "                                                                 \n",
      " dense_2 (Dense)             (None, 3)                 51        \n",
      "                                                                 \n",
      "=================================================================\n",
      "Total params: 937,859\n",
      "Trainable params: 937,859\n",
      "Non-trainable params: 0\n",
      "_________________________________________________________________\n",
      "None\n",
      "Epoch 1/100\n",
      "2/2 [==============================] - 3s 627ms/step - loss: 1.6339 - accuracy: 0.4396 - val_loss: 0.9390 - val_accuracy: 0.5217\n",
      "Epoch 2/100\n",
      "2/2 [==============================] - 0s 80ms/step - loss: 1.1975 - accuracy: 0.4945 - val_loss: 0.9746 - val_accuracy: 0.4348\n",
      "Epoch 3/100\n",
      "2/2 [==============================] - 0s 125ms/step - loss: 1.0356 - accuracy: 0.4176 - val_loss: 0.8251 - val_accuracy: 0.5652\n",
      "Epoch 4/100\n",
      "2/2 [==============================] - 0s 136ms/step - loss: 0.8870 - accuracy: 0.5055 - val_loss: 0.7504 - val_accuracy: 0.5652\n",
      "Epoch 5/100\n",
      "2/2 [==============================] - 0s 142ms/step - loss: 0.8072 - accuracy: 0.5495 - val_loss: 0.7272 - val_accuracy: 0.5652\n",
      "Epoch 6/100\n",
      "2/2 [==============================] - 0s 168ms/step - loss: 0.8600 - accuracy: 0.5714 - val_loss: 0.7062 - val_accuracy: 0.5652\n",
      "Epoch 7/100\n",
      "2/2 [==============================] - 0s 75ms/step - loss: 0.8403 - accuracy: 0.5824 - val_loss: 0.7091 - val_accuracy: 0.5652\n",
      "Epoch 8/100\n",
      "2/2 [==============================] - 0s 82ms/step - loss: 0.8157 - accuracy: 0.6484 - val_loss: 0.7107 - val_accuracy: 0.5217\n",
      "Epoch 9/100\n",
      "2/2 [==============================] - 0s 112ms/step - loss: 0.8001 - accuracy: 0.7033 - val_loss: 0.7042 - val_accuracy: 0.5652\n",
      "Epoch 10/100\n",
      "2/2 [==============================] - 0s 108ms/step - loss: 0.8074 - accuracy: 0.6264 - val_loss: 0.7012 - val_accuracy: 0.5217\n",
      "Epoch 11/100\n",
      "2/2 [==============================] - 0s 84ms/step - loss: 0.7546 - accuracy: 0.6813 - val_loss: 0.7039 - val_accuracy: 0.5652\n",
      "Epoch 12/100\n",
      "2/2 [==============================] - 0s 83ms/step - loss: 0.7753 - accuracy: 0.6374 - val_loss: 0.7320 - val_accuracy: 0.4348\n",
      "Epoch 13/100\n",
      "2/2 [==============================] - 0s 82ms/step - loss: 0.7505 - accuracy: 0.6813 - val_loss: 0.7650 - val_accuracy: 0.5217\n",
      "<keras.callbacks.History object at 0x7fa4b28ecbb0>\n",
      "18/18 [==============================] - 1s 11ms/step\n",
      "Thermal Preference Accuracy: 0.5385964912280702\n",
      "Thermal Preference Weighted F1 Score: 0.42849994959047305\n"
     ]
    }
   ],
   "source": [
    "# Train and evaluate thermal preference model (source: ASHRAE, target: BCA)\n",
    "print(\"Training Thermal Preference Model\")\n",
    "thermalpref_model = load_pretrained_model('cnnlstm_lower_thermalpref_model')\n",
    "thermalpref_scaler = generate_ashrae_scaler(ashrae_thermalpref_train, \n",
    "                                            target_col='Thermal Preference')\n",
    "thermalpref_model = train_model(thermalpref_model, \n",
    "                                bca_thermalpref_train, \n",
    "                                thermalpref_scaler,\n",
    "                                model_name='tl_cnnlstm_fe_thermalpref_model', \n",
    "                                target_col='Thermal Preference', \n",
    "                                num_classes=3)\n",
    "thermalpref_eval = evaluate_model(thermalpref_model, \n",
    "                                  bca_thermalpref_test, \n",
    "                                  thermalpref_scaler,\n",
    "                                  model_name='tl_cnnlstm_fe_thermalpref_model', \n",
    "                                  target_col='Thermal Preference')\n",
    "print(\"Thermal Preference Accuracy:\", thermalpref_eval['accuracy'])\n",
    "print(\"Thermal Preference Weighted F1 Score:\", thermalpref_eval['weighted_f1'])"
   ]
  },
  {
   "cell_type": "code",
   "execution_count": 8,
   "metadata": {
    "pycharm": {
     "name": "#%%\n"
    },
    "scrolled": true
   },
   "outputs": [
    {
     "name": "stdout",
     "output_type": "stream",
     "text": [
      "Training Thermal Acceptability Model\n",
      "Model: \"sequential_1\"\n",
      "_________________________________________________________________\n",
      " Layer (type)                Output Shape              Param #   \n",
      "=================================================================\n",
      " conv1d_1 (Conv1D)           (None, 7, 128)            768       \n",
      "                                                                 \n",
      " dropout_1 (Dropout)         (None, 7, 128)            0         \n",
      "                                                                 \n",
      " lstm_2 (LSTM)               (None, 7, 256)            394240    \n",
      "                                                                 \n",
      " lstm_3 (LSTM)               (None, 256)               525312    \n",
      "                                                                 \n",
      " flatten_1 (Flatten)         (None, 256)               0         \n",
      "                                                                 \n",
      " dense_3 (Dense)             (None, 64)                16448     \n",
      "                                                                 \n",
      " dense_4 (Dense)             (None, 16)                1040      \n",
      "                                                                 \n",
      " dense_5 (Dense)             (None, 2)                 34        \n",
      "                                                                 \n",
      "=================================================================\n",
      "Total params: 937,842\n",
      "Trainable params: 937,842\n",
      "Non-trainable params: 0\n",
      "_________________________________________________________________\n",
      "None\n",
      "Epoch 1/100\n",
      "2/2 [==============================] - 3s 532ms/step - loss: 2.0116 - accuracy: 0.2637 - val_loss: 0.7290 - val_accuracy: 0.6087\n",
      "Epoch 2/100\n",
      "2/2 [==============================] - 0s 144ms/step - loss: 0.8882 - accuracy: 0.4945 - val_loss: 0.4483 - val_accuracy: 0.6957\n",
      "Epoch 3/100\n",
      "2/2 [==============================] - 0s 81ms/step - loss: 0.5565 - accuracy: 0.6593 - val_loss: 0.4504 - val_accuracy: 0.7391\n",
      "Epoch 4/100\n",
      "2/2 [==============================] - 0s 78ms/step - loss: 0.5046 - accuracy: 0.7143 - val_loss: 0.4687 - val_accuracy: 0.6522\n",
      "Epoch 5/100\n",
      "2/2 [==============================] - 0s 115ms/step - loss: 0.6147 - accuracy: 0.7582 - val_loss: 0.4200 - val_accuracy: 0.7391\n",
      "Epoch 6/100\n",
      "2/2 [==============================] - 0s 78ms/step - loss: 0.4202 - accuracy: 0.8022 - val_loss: 0.4383 - val_accuracy: 0.7826\n",
      "Epoch 7/100\n",
      "2/2 [==============================] - 0s 111ms/step - loss: 0.4555 - accuracy: 0.7253 - val_loss: 0.3979 - val_accuracy: 0.8261\n",
      "Epoch 8/100\n",
      "2/2 [==============================] - 0s 109ms/step - loss: 0.4301 - accuracy: 0.7912 - val_loss: 0.3540 - val_accuracy: 0.7391\n",
      "Epoch 9/100\n",
      "2/2 [==============================] - 0s 77ms/step - loss: 0.4260 - accuracy: 0.8022 - val_loss: 0.4072 - val_accuracy: 0.7826\n",
      "Epoch 10/100\n",
      "2/2 [==============================] - 0s 75ms/step - loss: 0.4053 - accuracy: 0.7912 - val_loss: 0.4095 - val_accuracy: 0.7391\n",
      "Epoch 11/100\n",
      "2/2 [==============================] - 0s 75ms/step - loss: 0.4050 - accuracy: 0.7802 - val_loss: 0.3673 - val_accuracy: 0.8261\n",
      "Epoch 12/100\n",
      "2/2 [==============================] - 0s 79ms/step - loss: 0.3748 - accuracy: 0.7692 - val_loss: 0.4147 - val_accuracy: 0.7826\n",
      "Epoch 13/100\n",
      "2/2 [==============================] - 0s 77ms/step - loss: 0.3911 - accuracy: 0.7692 - val_loss: 0.4160 - val_accuracy: 0.7826\n",
      "Epoch 14/100\n",
      "2/2 [==============================] - 0s 80ms/step - loss: 0.4278 - accuracy: 0.7363 - val_loss: 0.4038 - val_accuracy: 0.8261\n",
      "Epoch 15/100\n",
      "2/2 [==============================] - 0s 78ms/step - loss: 0.3568 - accuracy: 0.8462 - val_loss: 0.3821 - val_accuracy: 0.6957\n",
      "Epoch 16/100\n",
      "2/2 [==============================] - 0s 83ms/step - loss: 0.3490 - accuracy: 0.8352 - val_loss: 0.3739 - val_accuracy: 0.6522\n",
      "Epoch 17/100\n",
      "2/2 [==============================] - 0s 82ms/step - loss: 0.4004 - accuracy: 0.7802 - val_loss: 0.3790 - val_accuracy: 0.6957\n",
      "<keras.callbacks.History object at 0x7fa4b47b1490>\n",
      "18/18 [==============================] - 1s 10ms/step\n",
      "Thermal Acceptability Accuracy: 0.7368421052631579\n",
      "Thermal Acceptability Weighted F1 Score: 0.7565663353920883\n"
     ]
    }
   ],
   "source": [
    "# Train and evaluate thermal acceptability model (source: ASHRAE, target: BCA)\n",
    "print(\"Training Thermal Acceptability Model\")\n",
    "thermalacc_model = load_pretrained_model('cnnlstm_lower_thermalacc_model')\n",
    "thermalacc_scaler = generate_ashrae_scaler(ashrae_thermalacc_train, \n",
    "                                           target_col='Thermal Acceptability')\n",
    "thermalacc_model = train_model(thermalacc_model, \n",
    "                               bca_thermalacc_train, \n",
    "                               thermalacc_scaler,\n",
    "                               model_name='tl_cnnlstm_fe_thermalacc_model', \n",
    "                               target_col='Thermal Acceptability', \n",
    "                               num_classes=2)\n",
    "thermalacc_eval = evaluate_model(thermalacc_model, \n",
    "                                  bca_thermalacc_test, \n",
    "                                  thermalacc_scaler,\n",
    "                                  model_name='tl_cnnlstm_fe_thermalacc_model', \n",
    "                                  target_col='Thermal Acceptability')\n",
    "print(\"Thermal Acceptability Accuracy:\", thermalacc_eval['accuracy'])\n",
    "print(\"Thermal Acceptability Weighted F1 Score:\", thermalacc_eval['weighted_f1'])"
   ]
  },
  {
   "cell_type": "code",
   "execution_count": 9,
   "metadata": {
    "pycharm": {
     "name": "#%%\n"
    }
   },
   "outputs": [
    {
     "name": "stdout",
     "output_type": "stream",
     "text": [
      "Training Air Movement Preference Model\n",
      "Model: \"sequential_2\"\n",
      "_________________________________________________________________\n",
      " Layer (type)                Output Shape              Param #   \n",
      "=================================================================\n",
      " conv1d_2 (Conv1D)           (None, 7, 128)            768       \n",
      "                                                                 \n",
      " dropout_2 (Dropout)         (None, 7, 128)            0         \n",
      "                                                                 \n",
      " lstm_4 (LSTM)               (None, 7, 256)            394240    \n",
      "                                                                 \n",
      " lstm_5 (LSTM)               (None, 256)               525312    \n",
      "                                                                 \n",
      " flatten_2 (Flatten)         (None, 256)               0         \n",
      "                                                                 \n",
      " dense_6 (Dense)             (None, 64)                16448     \n",
      "                                                                 \n",
      " dense_7 (Dense)             (None, 16)                1040      \n",
      "                                                                 \n",
      " dense_8 (Dense)             (None, 3)                 51        \n",
      "                                                                 \n",
      "=================================================================\n",
      "Total params: 937,859\n",
      "Trainable params: 937,859\n",
      "Non-trainable params: 0\n",
      "_________________________________________________________________\n",
      "None\n",
      "Epoch 1/100\n",
      "2/2 [==============================] - 3s 512ms/step - loss: 1.0490 - accuracy: 0.4066 - val_loss: 0.7644 - val_accuracy: 0.6522\n",
      "Epoch 2/100\n",
      "2/2 [==============================] - 0s 77ms/step - loss: 0.8364 - accuracy: 0.5714 - val_loss: 0.8723 - val_accuracy: 0.4783\n",
      "Epoch 3/100\n",
      "2/2 [==============================] - 0s 77ms/step - loss: 0.8077 - accuracy: 0.6044 - val_loss: 0.8244 - val_accuracy: 0.4783\n",
      "Epoch 4/100\n",
      "2/2 [==============================] - 0s 123ms/step - loss: 0.7949 - accuracy: 0.5604 - val_loss: 0.7422 - val_accuracy: 0.6957\n",
      "Epoch 5/100\n",
      "2/2 [==============================] - 0s 88ms/step - loss: 0.8217 - accuracy: 0.5604 - val_loss: 0.7804 - val_accuracy: 0.6522\n",
      "Epoch 6/100\n",
      "2/2 [==============================] - 0s 79ms/step - loss: 0.7340 - accuracy: 0.6264 - val_loss: 0.9191 - val_accuracy: 0.3913\n",
      "Epoch 7/100\n",
      "2/2 [==============================] - 0s 84ms/step - loss: 0.7701 - accuracy: 0.6374 - val_loss: 0.9183 - val_accuracy: 0.3913\n",
      "Epoch 8/100\n",
      "2/2 [==============================] - 0s 79ms/step - loss: 0.7298 - accuracy: 0.6484 - val_loss: 0.9387 - val_accuracy: 0.4348\n",
      "Epoch 9/100\n",
      "2/2 [==============================] - 0s 82ms/step - loss: 0.6865 - accuracy: 0.6593 - val_loss: 0.9483 - val_accuracy: 0.3478\n",
      "Epoch 10/100\n",
      "2/2 [==============================] - 0s 80ms/step - loss: 0.6871 - accuracy: 0.6484 - val_loss: 0.9697 - val_accuracy: 0.3913\n",
      "Epoch 11/100\n",
      "2/2 [==============================] - 0s 77ms/step - loss: 0.6781 - accuracy: 0.6484 - val_loss: 0.8739 - val_accuracy: 0.3913\n",
      "Epoch 12/100\n",
      "2/2 [==============================] - 0s 82ms/step - loss: 0.6215 - accuracy: 0.7143 - val_loss: 0.8441 - val_accuracy: 0.3913\n",
      "Epoch 13/100\n",
      "2/2 [==============================] - 0s 81ms/step - loss: 0.6699 - accuracy: 0.7143 - val_loss: 0.9185 - val_accuracy: 0.3913\n",
      "Epoch 14/100\n",
      "2/2 [==============================] - 0s 89ms/step - loss: 0.5986 - accuracy: 0.7363 - val_loss: 1.0290 - val_accuracy: 0.3478\n",
      "<keras.callbacks.History object at 0x7fa4a2470370>\n",
      "18/18 [==============================] - 1s 11ms/step\n",
      "Air Movement Preference Accuracy: 0.5333333333333333\n",
      "Air Movement Preference Weighted F1 Score: 0.47224689757715554\n"
     ]
    }
   ],
   "source": [
    "# Train and evaluate air movement preference model (source: ASHRAE, target: BCA)\n",
    "print(\"Training Air Movement Preference Model\")\n",
    "airpref_model = load_pretrained_model('cnnlstm_lower_airpref_model')\n",
    "airpref_scaler = generate_ashrae_scaler(ashrae_airpref_train, \n",
    "                                        target_col='Air Movement Preference')\n",
    "airpref_model = train_model(airpref_model, \n",
    "                            bca_airpref_train, \n",
    "                            airpref_scaler,\n",
    "                            model_name='tl_cnnlstm_fe_airpref_model', \n",
    "                            target_col='Air Movement Preference',\n",
    "                            num_classes=3)\n",
    "airpref_eval = evaluate_model(airpref_model, \n",
    "                              bca_airpref_test, \n",
    "                              airpref_scaler,\n",
    "                              model_name='tl_cnnlstm_fe_airpref_model', \n",
    "                              target_col='Air Movement Preference')\n",
    "print(\"Air Movement Preference Accuracy:\", airpref_eval['accuracy'])\n",
    "print(\"Air Movement Preference Weighted F1 Score:\", airpref_eval['weighted_f1'])"
   ]
  },
  {
   "cell_type": "code",
   "execution_count": null,
   "metadata": {},
   "outputs": [],
   "source": []
  }
 ],
 "metadata": {
  "kernelspec": {
   "display_name": "Python 3 (ipykernel)",
   "language": "python",
   "name": "python3"
  },
  "language_info": {
   "codemirror_mode": {
    "name": "ipython",
    "version": 3
   },
   "file_extension": ".py",
   "mimetype": "text/x-python",
   "name": "python",
   "nbconvert_exporter": "python",
   "pygments_lexer": "ipython3",
   "version": "3.8.13"
  }
 },
 "nbformat": 4,
 "nbformat_minor": 1
}