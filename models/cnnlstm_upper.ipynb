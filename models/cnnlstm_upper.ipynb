{
 "cells": [
  {
   "cell_type": "markdown",
   "metadata": {
    "pycharm": {
     "name": "#%% md\n"
    }
   },
   "source": [
    "# Import libraries and model hyperparameters"
   ]
  },
  {
   "cell_type": "code",
   "execution_count": null,
   "metadata": {
    "pycharm": {
     "is_executing": true,
     "name": "#%%\n"
    }
   },
   "outputs": [],
   "source": [
    "import tensorflow as tf\n",
    "import numpy as np\n",
    "import pandas as pd\n",
    "import argparse\n",
    "import random\n",
    "random.seed(1)\n",
    "from tensorflow.keras.models import Sequential\n",
    "from tensorflow.keras.layers import Conv1D, LSTM, Dropout, Flatten, Dense\n",
    "from sklearn.model_selection import train_test_split\n",
    "from sklearn.metrics import accuracy_score, f1_score\n",
    "from sklearn.preprocessing import MinMaxScaler\n",
    "\n",
    "pd.set_option('display.max_columns', None)\n",
    "pd.set_option('display.max_rows', None)\n",
    "\n",
    "# Define model hyperparameters\n",
    "parser = argparse.ArgumentParser(description='CNN-LSTM Upper Bound')\n",
    "parser.add_argument('--input_size', type=int, default=7)\n",
    "parser.add_argument('--batch_size', type=int, default=128)\n",
    "parser.add_argument('--num_epochs', type=int, default=100)\n",
    "parser.add_argument('--learning_rate', type=float, default=0.001)\n",
    "parser.add_argument('--input_features', type=list, default=['Mode',\n",
    "                                                            'Indoor Temp',\n",
    "                                                            'Indoor Humidity',\n",
    "                                                            'Air Velocity',\n",
    "                                                            'Globe Temperature',\n",
    "                                                            'Outdoor Temp',\n",
    "                                                            'Outdoor Humidity'])\n",
    "args = parser.parse_args(args=[])\n",
    "\n",
    "mode_mapping = {'AC':0, 'NV':1}\n",
    "thermalpref_mapping = {'No Change':0, 'Warmer':1, 'Cooler':2}\n",
    "thermalacc_mapping = {'Acceptable':0, 'Unacceptable':1}\n",
    "airpref_mapping = {'No Change':0, 'More':1, 'Less':2}"
   ]
  },
  {
   "cell_type": "markdown",
   "metadata": {},
   "source": [
    "# Load data"
   ]
  },
  {
   "cell_type": "code",
   "execution_count": null,
   "metadata": {
    "pycharm": {
     "name": "#%%\n"
    }
   },
   "outputs": [],
   "source": [
    "# load training data from BCA dataset\n",
    "thermalpref_train = pd.read_csv('../data/bca_thermalpref_train_data.csv')\n",
    "thermalacc_train = pd.read_csv('../data/bca_thermalacc_train_data.csv')\n",
    "airpref_train = pd.read_csv('../data/bca_airpref_train_data.csv')\n",
    "\n",
    "# load test data from BCA dataset\n",
    "thermalpref_test = pd.read_csv('../data/bca_thermalpref_test_data.csv')\n",
    "thermalacc_test = pd.read_csv('../data/bca_thermalacc_test_data.csv')\n",
    "airpref_test = pd.read_csv('../data/bca_airpref_test_data.csv')"
   ]
  },
  {
   "cell_type": "code",
   "execution_count": null,
   "metadata": {
    "pycharm": {
     "name": "#%%\n"
    }
   },
   "outputs": [],
   "source": [
    "# perform one hot encoding\n",
    "thermalpref_train['Mode'] = thermalpref_train['Mode'].apply(lambda x: mode_mapping[x])\n",
    "thermalpref_test['Mode'] = thermalpref_test['Mode'].apply(lambda x: mode_mapping[x])\n",
    "\n",
    "thermalacc_train['Mode'] = thermalacc_train['Mode'].apply(lambda x: mode_mapping[x])\n",
    "thermalacc_test['Mode'] = thermalacc_test['Mode'].apply(lambda x: mode_mapping[x])\n",
    "\n",
    "airpref_train['Mode'] = airpref_train['Mode'].apply(lambda x: mode_mapping[x])\n",
    "airpref_test['Mode'] = airpref_test['Mode'].apply(lambda x: mode_mapping[x])"
   ]
  },
  {
   "cell_type": "code",
   "execution_count": null,
   "metadata": {},
   "outputs": [],
   "source": [
    "# perform label mapping\n",
    "thermalpref_train['Thermal Preference'] = thermalpref_train['Thermal Preference'].apply(lambda x: thermalpref_mapping[x])\n",
    "thermalpref_test['Thermal Preference'] = thermalpref_test['Thermal Preference'].apply(lambda x: thermalpref_mapping[x])\n",
    "\n",
    "thermalacc_train['Thermal Acceptability'] = thermalacc_train['Thermal Acceptability'].apply(lambda x: thermalacc_mapping[x])\n",
    "thermalacc_test['Thermal Acceptability'] = thermalacc_test['Thermal Acceptability'].apply(lambda x: thermalacc_mapping[x])\n",
    "\n",
    "airpref_train['Air Movement Preference'] = airpref_train['Air Movement Preference'].apply(lambda x: airpref_mapping[x])\n",
    "airpref_test['Air Movement Preference'] = airpref_test['Air Movement Preference'].apply(lambda x: airpref_mapping[x])"
   ]
  },
  {
   "cell_type": "markdown",
   "metadata": {},
   "source": [
    "# Define model architecture"
   ]
  },
  {
   "cell_type": "code",
   "execution_count": null,
   "metadata": {
    "pycharm": {
     "name": "#%%\n"
    }
   },
   "outputs": [],
   "source": [
    "def define_model_architecture(num_classes):\n",
    "    \"\"\"\n",
    "    Defines the CNN LSTM model architecture with model parameters.\n",
    "    \n",
    "    Parameters:\n",
    "        num_classes: An integer value indicating the number of output classes for the model.\n",
    "        \n",
    "    Return:\n",
    "        model: The Keras object containing the CNN LSTM model architecture.\n",
    "    \"\"\"\n",
    "\n",
    "    # Create a Sequential model\n",
    "    model = Sequential()\n",
    "\n",
    "    # 1D Convolutional Layer (Part of the model to be retrained)\n",
    "    model.add(Conv1D(filters=128, kernel_size=5, padding='same', input_shape=(args.input_size, 1), trainable=True))\n",
    "    model.add(Dropout(0.1))\n",
    "\n",
    "    # Two LSTM Layers (Part of the model to be retrained)\n",
    "    model.add(LSTM(256, return_sequences=True, recurrent_dropout=0.1, trainable=True))\n",
    "    model.add(LSTM(256, return_sequences=False, recurrent_dropout=0.1, trainable=True))\n",
    "\n",
    "    # Flatten the output from LSTM layers\n",
    "    model.add(Flatten())\n",
    "\n",
    "    # Two Dense (Fully Connected) Layers (These layers will remain fixed)\n",
    "    model.add(Dense(64, activation='relu', kernel_initializer='glorot_uniform', trainable=True))\n",
    "    model.add(Dense(16, activation='relu', kernel_initializer='glorot_uniform', trainable=True))\n",
    "\n",
    "    # Output Layer (Part of the model to be retrained)\n",
    "    model.add(Dense(num_classes, activation='softmax', trainable=True))\n",
    "\n",
    "    # Compile the model\n",
    "    optimizer = tf.keras.optimizers.Adam(learning_rate=args.learning_rate)\n",
    "    model.compile(loss='categorical_crossentropy', optimizer=optimizer, metrics=['accuracy'])\n",
    "\n",
    "    # Print model summary\n",
    "    print(model.summary())\n",
    "    \n",
    "    return model"
   ]
  },
  {
   "cell_type": "markdown",
   "metadata": {},
   "source": [
    "# Model training and evaluation"
   ]
  },
  {
   "cell_type": "code",
   "execution_count": null,
   "metadata": {
    "pycharm": {
     "name": "#%%\n"
    }
   },
   "outputs": [],
   "source": [
    "def train_model(model, train_df, model_name, target_col, num_classes):\n",
    "    # Assuming train_df has columns for features and a 'target' column for labels\n",
    "    X = np.array(train_df[args.input_features])\n",
    "    y = np.array(train_df[target_col])\n",
    "\n",
    "    # Split the data into training and validation sets\n",
    "    X_train, X_val, y_train, y_val = train_test_split(X, y, test_size=0.2)\n",
    "    \n",
    "    # Create and fit a Min-Max scaler\n",
    "    scaler = MinMaxScaler()\n",
    "    X_train_scaled = scaler.fit_transform(X_train)\n",
    "    X_val_scaled = scaler.transform(X_val)\n",
    "\n",
    "    # Convert labels to one-hot encoding\n",
    "    y_train = tf.keras.utils.to_categorical(y_train, num_classes=num_classes)\n",
    "    y_val = tf.keras.utils.to_categorical(y_val, num_classes=num_classes)\n",
    "\n",
    "    # Define a callback to save the best model during training\n",
    "    checkpoint_callback = tf.keras.callbacks.ModelCheckpoint('model.h5', save_best_only=True)\n",
    "    \n",
    "    # Early stopping callback\n",
    "    early_stopping_callback = tf.keras.callbacks.EarlyStopping(\n",
    "        monitor='val_loss',  # Monitor validation loss\n",
    "        patience=5,          # Number of epochs with no improvement after which training will be stopped\n",
    "        restore_best_weights=True  # Restore the best model weights when training stops\n",
    "    )\n",
    "\n",
    "    # Train the model\n",
    "    history = model.fit(X_train_scaled, \n",
    "                        y_train, \n",
    "                        epochs=args.num_epochs, \n",
    "                        batch_size=args.batch_size,\n",
    "                        validation_data=(X_val_scaled, y_val), \n",
    "                        callbacks=[checkpoint_callback])\n",
    "\n",
    "    # Save the final trained model\n",
    "    model.save(model_name + '.h5')\n",
    "    \n",
    "    print(history)\n",
    "\n",
    "    return model, scaler\n",
    "\n",
    "def evaluate_model(model, test_df, scaler, model_name, target_col, metrics=['accuracy', 'weighted_f1']):\n",
    "    # Assuming test_df has columns for features and a 'target' column for labels\n",
    "    X_test = np.array(test_df[args.input_features])\n",
    "    y_true = np.array(test_df[target_col])\n",
    "\n",
    "    # Load the pre-trained model\n",
    "    loaded_model = tf.keras.models.load_model(model_name + '.h5')\n",
    "    \n",
    "    # Apply numerical scaler on X_test\n",
    "    X_test_scaled = scaler.transform(X_test)\n",
    "\n",
    "    # Get predictions from the model\n",
    "    y_pred = loaded_model.predict(X_test_scaled)\n",
    "    y_pred_classes = np.argmax(y_pred, axis=1)\n",
    "\n",
    "    evaluation_results = {}\n",
    "\n",
    "    if 'accuracy' in metrics:\n",
    "        accuracy = accuracy_score(y_true, y_pred_classes)\n",
    "        evaluation_results['accuracy'] = accuracy\n",
    "\n",
    "    if 'weighted_f1' in metrics:\n",
    "        weighted_f1 = f1_score(y_true, y_pred_classes, average='weighted')\n",
    "        evaluation_results['weighted_f1'] = weighted_f1\n",
    "\n",
    "    return evaluation_results\n"
   ]
  },
  {
   "cell_type": "code",
   "execution_count": null,
   "metadata": {
    "pycharm": {
     "name": "#%%\n"
    },
    "scrolled": true
   },
   "outputs": [],
   "source": [
    "# Train and evaluate thermal preference model (source: N.A., target: BCA)\n",
    "print(\"Training Thermal Preference Model\")\n",
    "thermalpref_model = define_model_architecture(num_classes=3)\n",
    "thermalpref_model, thermalpref_scaler = train_model(thermalpref_model, \n",
    "                                                    thermalpref_train, \n",
    "                                                    model_name='cnnlstm_upper_thermalpref_model', \n",
    "                                                    target_col='Thermal Preference', \n",
    "                                                    num_classes=3)\n",
    "\n",
    "thermalpref_eval = evaluate_model(thermalpref_model, \n",
    "                                  thermalpref_test, \n",
    "                                  thermalpref_scaler,\n",
    "                                  model_name='cnnlstm_upper_thermalpref_model', \n",
    "                                  target_col='Thermal Preference')\n",
    "print(\"Thermal Preference Accuracy:\", thermalpref_eval['accuracy'])\n",
    "print(\"Thermal Preference Weighted F1 Score:\", thermalpref_eval['weighted_f1'])"
   ]
  },
  {
   "cell_type": "code",
   "execution_count": null,
   "metadata": {
    "pycharm": {
     "name": "#%%\n"
    },
    "scrolled": true
   },
   "outputs": [],
   "source": [
    "# Train and evaluate thermal acceptability model (source: N.A., target: BCA)\n",
    "print(\"Training Thermal Acceptability Model\")\n",
    "thermalacc_model = define_model_architecture(num_classes=2)\n",
    "thermalacc_model, thermalacc_scaler = train_model(thermalacc_model, \n",
    "                                                  thermalacc_train, \n",
    "                                                  model_name='cnnlstm_upper_thermalacc_model', \n",
    "                                                  target_col='Thermal Acceptability', \n",
    "                                                  num_classes=2)\n",
    "\n",
    "thermalacc_eval = evaluate_model(thermalacc_model, \n",
    "                                 thermalacc_test, \n",
    "                                 thermalacc_scaler,\n",
    "                                 model_name='cnnlstm_upper_thermalacc_model', \n",
    "                                 target_col='Thermal Acceptability')\n",
    "print(\"Thermal Acceptability Accuracy:\", thermalacc_eval['accuracy'])\n",
    "print(\"Thermal Acceptability Weighted F1 Score:\", thermalacc_eval['weighted_f1'])"
   ]
  },
  {
   "cell_type": "code",
   "execution_count": null,
   "metadata": {
    "pycharm": {
     "name": "#%%\n"
    }
   },
   "outputs": [],
   "source": [
    "# Train and evaluate air movement preference model (source: N.A., target: BCA)\n",
    "print(\"Training Air Movement Preference Model\")\n",
    "airpref_model = define_model_architecture(num_classes=3)\n",
    "airpref_model, airpref_scaler = train_model(airpref_model, \n",
    "                                            airpref_train, \n",
    "                                            model_name='cnnlstm_upper_airpref_model', \n",
    "                                            target_col='Air Movement Preference', \n",
    "                                            num_classes=3)\n",
    "\n",
    "airpref_eval = evaluate_model(airpref_model, \n",
    "                              airpref_test, \n",
    "                              airpref_scaler,\n",
    "                              model_name='cnnlstm_upper_airpref_model', \n",
    "                              target_col='Air Movement Preference')\n",
    "print(\"Air Movement Preference Accuracy:\", airpref_eval['accuracy'])\n",
    "print(\"Air Movement Preference Weighted F1 Score:\", airpref_eval['weighted_f1'])"
   ]
  },
  {
   "cell_type": "code",
   "execution_count": null,
   "metadata": {},
   "outputs": [],
   "source": []
  }
 ],
 "metadata": {
  "kernelspec": {
   "display_name": "Python 3 (ipykernel)",
   "language": "python",
   "name": "python3"
  },
  "language_info": {
   "codemirror_mode": {
    "name": "ipython",
    "version": 3
   },
   "file_extension": ".py",
   "mimetype": "text/x-python",
   "name": "python",
   "nbconvert_exporter": "python",
   "pygments_lexer": "ipython3",
   "version": "3.8.13"
  }
 },
 "nbformat": 4,
 "nbformat_minor": 1
}
